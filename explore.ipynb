{
 "cells": [
  {
   "cell_type": "code",
   "execution_count": 1,
   "metadata": {
    "collapsed": false
   },
   "outputs": [],
   "source": [
    "import pandas as pd\n",
    "import numpy as np\n",
    "import datetime\n",
    "import xgboost as xg\n",
    "import matplotlib.pyplot as plt\n",
    "\n",
    "from sklearn.ensemble import GradientBoostingClassifier\n",
    "from sklearn.preprocessing import LabelEncoder\n",
    "from sklearn.metrics import confusion_matrix\n",
    "\n",
    "%matplotlib inline"
   ]
  },
  {
   "cell_type": "code",
   "execution_count": 2,
   "metadata": {
    "collapsed": false
   },
   "outputs": [
    {
     "data": {
      "text/html": [
       "<div>\n",
       "<table border=\"1\" class=\"dataframe\">\n",
       "  <thead>\n",
       "    <tr style=\"text-align: right;\">\n",
       "      <th></th>\n",
       "      <th>gender</th>\n",
       "      <th>p_sessionActivity</th>\n",
       "      <th>p_AddToCart</th>\n",
       "      <th>p_sessionDuration</th>\n",
       "      <th>p_pageViews</th>\n",
       "      <th>daysToCheckin</th>\n",
       "      <th>osType</th>\n",
       "      <th>daysFromPreviousVisit</th>\n",
       "      <th>p_TotalPrice</th>\n",
       "      <th>isExclusiveMember</th>\n",
       "      <th>...</th>\n",
       "      <th>p_trafficChannel_O</th>\n",
       "      <th>osTypeName_android_browser</th>\n",
       "      <th>osTypeName_android_tablet_browser</th>\n",
       "      <th>osTypeName_ipad_browser</th>\n",
       "      <th>osTypeName_ipad_hybrid_app</th>\n",
       "      <th>osTypeName_linux</th>\n",
       "      <th>osTypeName_osx</th>\n",
       "      <th>osTypeName_other</th>\n",
       "      <th>osTypeName_other_tablet</th>\n",
       "      <th>osTypeName_windows</th>\n",
       "    </tr>\n",
       "  </thead>\n",
       "  <tbody>\n",
       "    <tr>\n",
       "      <th>0</th>\n",
       "      <td>1</td>\n",
       "      <td>1</td>\n",
       "      <td>0</td>\n",
       "      <td>73</td>\n",
       "      <td>1</td>\n",
       "      <td>NaN</td>\n",
       "      <td>8</td>\n",
       "      <td>10</td>\n",
       "      <td>NaN</td>\n",
       "      <td>0</td>\n",
       "      <td>...</td>\n",
       "      <td>1.0</td>\n",
       "      <td>0.0</td>\n",
       "      <td>0.0</td>\n",
       "      <td>0.0</td>\n",
       "      <td>0.0</td>\n",
       "      <td>0.0</td>\n",
       "      <td>1.0</td>\n",
       "      <td>0.0</td>\n",
       "      <td>0.0</td>\n",
       "      <td>0.0</td>\n",
       "    </tr>\n",
       "    <tr>\n",
       "      <th>1</th>\n",
       "      <td>1</td>\n",
       "      <td>0</td>\n",
       "      <td>0</td>\n",
       "      <td>234</td>\n",
       "      <td>4</td>\n",
       "      <td>NaN</td>\n",
       "      <td>7</td>\n",
       "      <td>42</td>\n",
       "      <td>NaN</td>\n",
       "      <td>0</td>\n",
       "      <td>...</td>\n",
       "      <td>1.0</td>\n",
       "      <td>0.0</td>\n",
       "      <td>0.0</td>\n",
       "      <td>0.0</td>\n",
       "      <td>0.0</td>\n",
       "      <td>0.0</td>\n",
       "      <td>0.0</td>\n",
       "      <td>0.0</td>\n",
       "      <td>0.0</td>\n",
       "      <td>1.0</td>\n",
       "    </tr>\n",
       "    <tr>\n",
       "      <th>2</th>\n",
       "      <td>0</td>\n",
       "      <td>53</td>\n",
       "      <td>0</td>\n",
       "      <td>341</td>\n",
       "      <td>5</td>\n",
       "      <td>123.0</td>\n",
       "      <td>7</td>\n",
       "      <td>0</td>\n",
       "      <td>166.0</td>\n",
       "      <td>1</td>\n",
       "      <td>...</td>\n",
       "      <td>1.0</td>\n",
       "      <td>0.0</td>\n",
       "      <td>0.0</td>\n",
       "      <td>0.0</td>\n",
       "      <td>0.0</td>\n",
       "      <td>0.0</td>\n",
       "      <td>0.0</td>\n",
       "      <td>0.0</td>\n",
       "      <td>0.0</td>\n",
       "      <td>1.0</td>\n",
       "    </tr>\n",
       "    <tr>\n",
       "      <th>3</th>\n",
       "      <td>1</td>\n",
       "      <td>0</td>\n",
       "      <td>0</td>\n",
       "      <td>778</td>\n",
       "      <td>1</td>\n",
       "      <td>NaN</td>\n",
       "      <td>7</td>\n",
       "      <td>1</td>\n",
       "      <td>NaN</td>\n",
       "      <td>0</td>\n",
       "      <td>...</td>\n",
       "      <td>1.0</td>\n",
       "      <td>0.0</td>\n",
       "      <td>0.0</td>\n",
       "      <td>0.0</td>\n",
       "      <td>0.0</td>\n",
       "      <td>0.0</td>\n",
       "      <td>0.0</td>\n",
       "      <td>0.0</td>\n",
       "      <td>0.0</td>\n",
       "      <td>1.0</td>\n",
       "    </tr>\n",
       "    <tr>\n",
       "      <th>4</th>\n",
       "      <td>1</td>\n",
       "      <td>0</td>\n",
       "      <td>0</td>\n",
       "      <td>34</td>\n",
       "      <td>1</td>\n",
       "      <td>NaN</td>\n",
       "      <td>7</td>\n",
       "      <td>2</td>\n",
       "      <td>NaN</td>\n",
       "      <td>0</td>\n",
       "      <td>...</td>\n",
       "      <td>1.0</td>\n",
       "      <td>0.0</td>\n",
       "      <td>0.0</td>\n",
       "      <td>0.0</td>\n",
       "      <td>0.0</td>\n",
       "      <td>0.0</td>\n",
       "      <td>0.0</td>\n",
       "      <td>0.0</td>\n",
       "      <td>0.0</td>\n",
       "      <td>1.0</td>\n",
       "    </tr>\n",
       "  </tbody>\n",
       "</table>\n",
       "<p>5 rows × 28 columns</p>\n",
       "</div>"
      ],
      "text/plain": [
       "   gender  p_sessionActivity  p_AddToCart  p_sessionDuration  p_pageViews  \\\n",
       "0       1                  1            0                 73            1   \n",
       "1       1                  0            0                234            4   \n",
       "2       0                 53            0                341            5   \n",
       "3       1                  0            0                778            1   \n",
       "4       1                  0            0                 34            1   \n",
       "\n",
       "   daysToCheckin  osType  daysFromPreviousVisit  p_TotalPrice  \\\n",
       "0            NaN       8                     10           NaN   \n",
       "1            NaN       7                     42           NaN   \n",
       "2          123.0       7                      0         166.0   \n",
       "3            NaN       7                      1           NaN   \n",
       "4            NaN       7                      2           NaN   \n",
       "\n",
       "   isExclusiveMember         ...          p_trafficChannel_O  \\\n",
       "0                  0         ...                         1.0   \n",
       "1                  0         ...                         1.0   \n",
       "2                  1         ...                         1.0   \n",
       "3                  0         ...                         1.0   \n",
       "4                  0         ...                         1.0   \n",
       "\n",
       "   osTypeName_android_browser  osTypeName_android_tablet_browser  \\\n",
       "0                         0.0                                0.0   \n",
       "1                         0.0                                0.0   \n",
       "2                         0.0                                0.0   \n",
       "3                         0.0                                0.0   \n",
       "4                         0.0                                0.0   \n",
       "\n",
       "   osTypeName_ipad_browser  osTypeName_ipad_hybrid_app  osTypeName_linux  \\\n",
       "0                      0.0                         0.0               0.0   \n",
       "1                      0.0                         0.0               0.0   \n",
       "2                      0.0                         0.0               0.0   \n",
       "3                      0.0                         0.0               0.0   \n",
       "4                      0.0                         0.0               0.0   \n",
       "\n",
       "   osTypeName_osx  osTypeName_other  osTypeName_other_tablet  \\\n",
       "0             1.0               0.0                      0.0   \n",
       "1             0.0               0.0                      0.0   \n",
       "2             0.0               0.0                      0.0   \n",
       "3             0.0               0.0                      0.0   \n",
       "4             0.0               0.0                      0.0   \n",
       "\n",
       "   osTypeName_windows  \n",
       "0                 0.0  \n",
       "1                 1.0  \n",
       "2                 1.0  \n",
       "3                 1.0  \n",
       "4                 1.0  \n",
       "\n",
       "[5 rows x 28 columns]"
      ]
     },
     "execution_count": 2,
     "metadata": {},
     "output_type": "execute_result"
    }
   ],
   "source": [
    "dataset = pd.read_csv('TripAdvisorChallenge/TripAdvisorChallenge/datathon_tadata.csv')\n",
    "dataset = dataset.drop(['user_id', 'day'], 1)\n",
    "dataset = pd.get_dummies(dataset)\n",
    "dfidx = dataset.dropna('index')\n",
    "dfcol = dataset.dropna('columns')\n",
    "\n",
    "dataset.head()"
   ]
  },
  {
   "cell_type": "code",
   "execution_count": 40,
   "metadata": {
    "collapsed": false
   },
   "outputs": [],
   "source": [
    "msk = np.random.rand(len(dfcol)) < 0.8\n",
    "dftrain = dfcol[msk]\n",
    "dftest = dfcol[~msk]"
   ]
  },
  {
   "cell_type": "code",
   "execution_count": null,
   "metadata": {
    "collapsed": false
   },
   "outputs": [],
   "source": []
  },
  {
   "cell_type": "code",
   "execution_count": 44,
   "metadata": {
    "collapsed": false
   },
   "outputs": [],
   "source": [
    "xtrain = dftrain.drop('BookingPurchase', 1).astype(int).as_matrix()\n",
    "ytrain = dftrain['BookingPurchase'].astype(int).as_matrix()"
   ]
  },
  {
   "cell_type": "code",
   "execution_count": null,
   "metadata": {
    "collapsed": false
   },
   "outputs": [],
   "source": [
    "clfGB = GradientBoostingClassifier(n_estimators=100, learning_rate=0.1, max_depth=1, \n",
    "                                   random_state=0).fit(xtrain, ytrain, sample_weight=[i*1+1 for i in ytrain])\n",
    "predictions = clfGB.predict(xtrain)\n",
    "cmat = confusion_matrix(predictions, ytrain)\n",
    "precision = cmat[1,1] / float(cmat[1,1] + cmat[1,0])\n",
    "recall = cmat[1,1] / float(cmat[1,1] + cmat[0,1])\n",
    "print cmat\n",
    "print precision\n",
    "print recall"
   ]
  },
  {
   "cell_type": "code",
   "execution_count": null,
   "metadata": {
    "collapsed": false
   },
   "outputs": [],
   "source": []
  },
  {
   "cell_type": "code",
   "execution_count": null,
   "metadata": {
    "collapsed": false
   },
   "outputs": [],
   "source": []
  },
  {
   "cell_type": "code",
   "execution_count": null,
   "metadata": {
    "collapsed": false
   },
   "outputs": [],
   "source": []
  },
  {
   "cell_type": "code",
   "execution_count": null,
   "metadata": {
    "collapsed": false
   },
   "outputs": [],
   "source": []
  },
  {
   "cell_type": "code",
   "execution_count": null,
   "metadata": {
    "collapsed": false
   },
   "outputs": [],
   "source": [
    "datetime.datetime.strptime('2017-01-10', '%Y-%M-%d').strftime('%A')"
   ]
  }
 ],
 "metadata": {
  "kernelspec": {
   "display_name": "Python [Root]",
   "language": "python",
   "name": "Python [Root]"
  },
  "language_info": {
   "codemirror_mode": {
    "name": "ipython",
    "version": 2
   },
   "file_extension": ".py",
   "mimetype": "text/x-python",
   "name": "python",
   "nbconvert_exporter": "python",
   "pygments_lexer": "ipython2",
   "version": "2.7.12"
  }
 },
 "nbformat": 4,
 "nbformat_minor": 0
}
